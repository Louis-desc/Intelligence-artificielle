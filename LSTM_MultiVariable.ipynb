{
  "nbformat": 4,
  "nbformat_minor": 0,
  "metadata": {
    "colab": {
      "name": "LSTM MultiVariable.ipynb",
      "provenance": []
    },
    "kernelspec": {
      "name": "python3",
      "display_name": "Python 3"
    },
    "language_info": {
      "name": "python"
    }
  },
  "cells": [
    {
      "cell_type": "code",
      "source": [
        "import pandas as pd \n",
        "import numpy as np \n",
        "import matplotlib.pyplot as plt\n",
        "import math\n",
        "from keras.models import Sequential\n",
        "from keras.layers import Dense\n",
        "from keras.layers import LSTM\n",
        "from sklearn.preprocessing import MinMaxScaler\n",
        "from sklearn.metrics import mean_squared_error"
      ],
      "metadata": {
        "id": "_tEra95HWsus"
      },
      "execution_count": 43,
      "outputs": []
    },
    {
      "cell_type": "code",
      "execution_count": 44,
      "metadata": {
        "id": "wybrShVUVSqS"
      },
      "outputs": [],
      "source": [
        "df = pd.read_csv(\"Dataframe_clean.csv\")\n",
        "df.drop(columns=\"date\",inplace=True)"
      ]
    },
    {
      "cell_type": "markdown",
      "source": [
        "On va encore une fois scaller nos données afin qu'elles soient compréhensibles par notre réseau. "
      ],
      "metadata": {
        "id": "ylBLFC1sOwwO"
      }
    },
    {
      "cell_type": "code",
      "source": [
        "df"
      ],
      "metadata": {
        "colab": {
          "base_uri": "https://localhost:8080/",
          "height": 423
        },
        "id": "Jt5QEu4GQ6MW",
        "outputId": "02b2ed2d-4787-4301-93b3-7dbc8867d2a5"
      },
      "execution_count": 45,
      "outputs": [
        {
          "output_type": "execute_result",
          "data": {
            "text/plain": [
              "     Unnamed: 0        TO         R     hosp       rad        conf   conf_j1  \\\n",
              "0             0  0.965599  0.712412  32654.0  134923.0     33172.0   33172.0   \n",
              "1             1  0.966192  0.682531  32676.0  137124.0     56966.0   23794.0   \n",
              "2             2  0.959866  0.658918  32468.0  139110.0     89061.0   32095.0   \n",
              "3             3  0.964808  0.641595  33050.0  139779.0    116289.0   27228.0   \n",
              "4             4  0.969355  0.630205  33466.0  140849.0    125695.0    9406.0   \n",
              "..          ...       ...       ...      ...       ...         ...       ...   \n",
              "503         503  0.305654  0.000000  21688.0  598673.0  23944255.0  169024.0   \n",
              "504         504  0.306643  0.000000  21922.0  600034.0  24113566.0  169311.0   \n",
              "505         505  0.303875  0.000000  22066.0  601418.0  24262195.0  148629.0   \n",
              "506         506  0.301107  0.000000  22113.0  602269.0  24394309.0  132114.0   \n",
              "507         507  0.304270  0.000000  22251.0  602444.0  24496575.0  102266.0   \n",
              "\n",
              "       dc_tot  \n",
              "0     29673.0  \n",
              "1     30400.0  \n",
              "2     31025.0  \n",
              "3     31598.0  \n",
              "4     32375.0  \n",
              "..        ...  \n",
              "503  142134.0  \n",
              "504  142273.0  \n",
              "505  142407.0  \n",
              "506  142475.0  \n",
              "507  142506.0  \n",
              "\n",
              "[508 rows x 8 columns]"
            ],
            "text/html": [
              "\n",
              "  <div id=\"df-0bc11a64-5a59-485b-b56a-002c497e31f5\">\n",
              "    <div class=\"colab-df-container\">\n",
              "      <div>\n",
              "<style scoped>\n",
              "    .dataframe tbody tr th:only-of-type {\n",
              "        vertical-align: middle;\n",
              "    }\n",
              "\n",
              "    .dataframe tbody tr th {\n",
              "        vertical-align: top;\n",
              "    }\n",
              "\n",
              "    .dataframe thead th {\n",
              "        text-align: right;\n",
              "    }\n",
              "</style>\n",
              "<table border=\"1\" class=\"dataframe\">\n",
              "  <thead>\n",
              "    <tr style=\"text-align: right;\">\n",
              "      <th></th>\n",
              "      <th>Unnamed: 0</th>\n",
              "      <th>TO</th>\n",
              "      <th>R</th>\n",
              "      <th>hosp</th>\n",
              "      <th>rad</th>\n",
              "      <th>conf</th>\n",
              "      <th>conf_j1</th>\n",
              "      <th>dc_tot</th>\n",
              "    </tr>\n",
              "  </thead>\n",
              "  <tbody>\n",
              "    <tr>\n",
              "      <th>0</th>\n",
              "      <td>0</td>\n",
              "      <td>0.965599</td>\n",
              "      <td>0.712412</td>\n",
              "      <td>32654.0</td>\n",
              "      <td>134923.0</td>\n",
              "      <td>33172.0</td>\n",
              "      <td>33172.0</td>\n",
              "      <td>29673.0</td>\n",
              "    </tr>\n",
              "    <tr>\n",
              "      <th>1</th>\n",
              "      <td>1</td>\n",
              "      <td>0.966192</td>\n",
              "      <td>0.682531</td>\n",
              "      <td>32676.0</td>\n",
              "      <td>137124.0</td>\n",
              "      <td>56966.0</td>\n",
              "      <td>23794.0</td>\n",
              "      <td>30400.0</td>\n",
              "    </tr>\n",
              "    <tr>\n",
              "      <th>2</th>\n",
              "      <td>2</td>\n",
              "      <td>0.959866</td>\n",
              "      <td>0.658918</td>\n",
              "      <td>32468.0</td>\n",
              "      <td>139110.0</td>\n",
              "      <td>89061.0</td>\n",
              "      <td>32095.0</td>\n",
              "      <td>31025.0</td>\n",
              "    </tr>\n",
              "    <tr>\n",
              "      <th>3</th>\n",
              "      <td>3</td>\n",
              "      <td>0.964808</td>\n",
              "      <td>0.641595</td>\n",
              "      <td>33050.0</td>\n",
              "      <td>139779.0</td>\n",
              "      <td>116289.0</td>\n",
              "      <td>27228.0</td>\n",
              "      <td>31598.0</td>\n",
              "    </tr>\n",
              "    <tr>\n",
              "      <th>4</th>\n",
              "      <td>4</td>\n",
              "      <td>0.969355</td>\n",
              "      <td>0.630205</td>\n",
              "      <td>33466.0</td>\n",
              "      <td>140849.0</td>\n",
              "      <td>125695.0</td>\n",
              "      <td>9406.0</td>\n",
              "      <td>32375.0</td>\n",
              "    </tr>\n",
              "    <tr>\n",
              "      <th>...</th>\n",
              "      <td>...</td>\n",
              "      <td>...</td>\n",
              "      <td>...</td>\n",
              "      <td>...</td>\n",
              "      <td>...</td>\n",
              "      <td>...</td>\n",
              "      <td>...</td>\n",
              "      <td>...</td>\n",
              "    </tr>\n",
              "    <tr>\n",
              "      <th>503</th>\n",
              "      <td>503</td>\n",
              "      <td>0.305654</td>\n",
              "      <td>0.000000</td>\n",
              "      <td>21688.0</td>\n",
              "      <td>598673.0</td>\n",
              "      <td>23944255.0</td>\n",
              "      <td>169024.0</td>\n",
              "      <td>142134.0</td>\n",
              "    </tr>\n",
              "    <tr>\n",
              "      <th>504</th>\n",
              "      <td>504</td>\n",
              "      <td>0.306643</td>\n",
              "      <td>0.000000</td>\n",
              "      <td>21922.0</td>\n",
              "      <td>600034.0</td>\n",
              "      <td>24113566.0</td>\n",
              "      <td>169311.0</td>\n",
              "      <td>142273.0</td>\n",
              "    </tr>\n",
              "    <tr>\n",
              "      <th>505</th>\n",
              "      <td>505</td>\n",
              "      <td>0.303875</td>\n",
              "      <td>0.000000</td>\n",
              "      <td>22066.0</td>\n",
              "      <td>601418.0</td>\n",
              "      <td>24262195.0</td>\n",
              "      <td>148629.0</td>\n",
              "      <td>142407.0</td>\n",
              "    </tr>\n",
              "    <tr>\n",
              "      <th>506</th>\n",
              "      <td>506</td>\n",
              "      <td>0.301107</td>\n",
              "      <td>0.000000</td>\n",
              "      <td>22113.0</td>\n",
              "      <td>602269.0</td>\n",
              "      <td>24394309.0</td>\n",
              "      <td>132114.0</td>\n",
              "      <td>142475.0</td>\n",
              "    </tr>\n",
              "    <tr>\n",
              "      <th>507</th>\n",
              "      <td>507</td>\n",
              "      <td>0.304270</td>\n",
              "      <td>0.000000</td>\n",
              "      <td>22251.0</td>\n",
              "      <td>602444.0</td>\n",
              "      <td>24496575.0</td>\n",
              "      <td>102266.0</td>\n",
              "      <td>142506.0</td>\n",
              "    </tr>\n",
              "  </tbody>\n",
              "</table>\n",
              "<p>508 rows × 8 columns</p>\n",
              "</div>\n",
              "      <button class=\"colab-df-convert\" onclick=\"convertToInteractive('df-0bc11a64-5a59-485b-b56a-002c497e31f5')\"\n",
              "              title=\"Convert this dataframe to an interactive table.\"\n",
              "              style=\"display:none;\">\n",
              "        \n",
              "  <svg xmlns=\"http://www.w3.org/2000/svg\" height=\"24px\"viewBox=\"0 0 24 24\"\n",
              "       width=\"24px\">\n",
              "    <path d=\"M0 0h24v24H0V0z\" fill=\"none\"/>\n",
              "    <path d=\"M18.56 5.44l.94 2.06.94-2.06 2.06-.94-2.06-.94-.94-2.06-.94 2.06-2.06.94zm-11 1L8.5 8.5l.94-2.06 2.06-.94-2.06-.94L8.5 2.5l-.94 2.06-2.06.94zm10 10l.94 2.06.94-2.06 2.06-.94-2.06-.94-.94-2.06-.94 2.06-2.06.94z\"/><path d=\"M17.41 7.96l-1.37-1.37c-.4-.4-.92-.59-1.43-.59-.52 0-1.04.2-1.43.59L10.3 9.45l-7.72 7.72c-.78.78-.78 2.05 0 2.83L4 21.41c.39.39.9.59 1.41.59.51 0 1.02-.2 1.41-.59l7.78-7.78 2.81-2.81c.8-.78.8-2.07 0-2.86zM5.41 20L4 18.59l7.72-7.72 1.47 1.35L5.41 20z\"/>\n",
              "  </svg>\n",
              "      </button>\n",
              "      \n",
              "  <style>\n",
              "    .colab-df-container {\n",
              "      display:flex;\n",
              "      flex-wrap:wrap;\n",
              "      gap: 12px;\n",
              "    }\n",
              "\n",
              "    .colab-df-convert {\n",
              "      background-color: #E8F0FE;\n",
              "      border: none;\n",
              "      border-radius: 50%;\n",
              "      cursor: pointer;\n",
              "      display: none;\n",
              "      fill: #1967D2;\n",
              "      height: 32px;\n",
              "      padding: 0 0 0 0;\n",
              "      width: 32px;\n",
              "    }\n",
              "\n",
              "    .colab-df-convert:hover {\n",
              "      background-color: #E2EBFA;\n",
              "      box-shadow: 0px 1px 2px rgba(60, 64, 67, 0.3), 0px 1px 3px 1px rgba(60, 64, 67, 0.15);\n",
              "      fill: #174EA6;\n",
              "    }\n",
              "\n",
              "    [theme=dark] .colab-df-convert {\n",
              "      background-color: #3B4455;\n",
              "      fill: #D2E3FC;\n",
              "    }\n",
              "\n",
              "    [theme=dark] .colab-df-convert:hover {\n",
              "      background-color: #434B5C;\n",
              "      box-shadow: 0px 1px 3px 1px rgba(0, 0, 0, 0.15);\n",
              "      filter: drop-shadow(0px 1px 2px rgba(0, 0, 0, 0.3));\n",
              "      fill: #FFFFFF;\n",
              "    }\n",
              "  </style>\n",
              "\n",
              "      <script>\n",
              "        const buttonEl =\n",
              "          document.querySelector('#df-0bc11a64-5a59-485b-b56a-002c497e31f5 button.colab-df-convert');\n",
              "        buttonEl.style.display =\n",
              "          google.colab.kernel.accessAllowed ? 'block' : 'none';\n",
              "\n",
              "        async function convertToInteractive(key) {\n",
              "          const element = document.querySelector('#df-0bc11a64-5a59-485b-b56a-002c497e31f5');\n",
              "          const dataTable =\n",
              "            await google.colab.kernel.invokeFunction('convertToInteractive',\n",
              "                                                     [key], {});\n",
              "          if (!dataTable) return;\n",
              "\n",
              "          const docLinkHtml = 'Like what you see? Visit the ' +\n",
              "            '<a target=\"_blank\" href=https://colab.research.google.com/notebooks/data_table.ipynb>data table notebook</a>'\n",
              "            + ' to learn more about interactive tables.';\n",
              "          element.innerHTML = '';\n",
              "          dataTable['output_type'] = 'display_data';\n",
              "          await google.colab.output.renderOutput(dataTable, element);\n",
              "          const docLink = document.createElement('div');\n",
              "          docLink.innerHTML = docLinkHtml;\n",
              "          element.appendChild(docLink);\n",
              "        }\n",
              "      </script>\n",
              "    </div>\n",
              "  </div>\n",
              "  "
            ]
          },
          "metadata": {},
          "execution_count": 45
        }
      ]
    },
    {
      "cell_type": "code",
      "source": [
        "tr_df = df[[\"TO\",\"hosp\",\"rad\",\"conf\"]]\n",
        "te_df = df[\"conf\"]"
      ],
      "metadata": {
        "id": "ABiUCDPBWz-N"
      },
      "execution_count": 47,
      "outputs": []
    },
    {
      "cell_type": "markdown",
      "source": [
        "on crée notre série de test et de train. "
      ],
      "metadata": {
        "id": "PIBSJa0ERICy"
      }
    },
    {
      "cell_type": "code",
      "source": [
        "t = [1,2,3]\n",
        "type(t)"
      ],
      "metadata": {
        "id": "qOL_9tPP8fnO",
        "outputId": "9363d21b-0fec-4a80-9f1b-0bb8e4c7cc5a",
        "colab": {
          "base_uri": "https://localhost:8080/"
        }
      },
      "execution_count": 68,
      "outputs": [
        {
          "output_type": "execute_result",
          "data": {
            "text/plain": [
              "list"
            ]
          },
          "metadata": {},
          "execution_count": 68
        }
      ]
    },
    {
      "cell_type": "code",
      "source": [
        "def flatten(t): \n",
        "  return [item for sublist in t for item in sublist]"
      ],
      "metadata": {
        "id": "9MTm2Y-O8IwR"
      },
      "execution_count": 71,
      "outputs": []
    },
    {
      "cell_type": "code",
      "source": [
        "train = []\n",
        "test = [] \n",
        "\n",
        "for k in range(14,500): \n",
        "   train.append(np.array(flatten([tr_df[\"conf\"][k-14:k],[tr_df[\"hosp\"][k-1]],[tr_df[\"TO\"][k-1]],[tr_df[\"rad\"][k-1]]])))\n",
        "   test.append(np.array(te_df[k:k+7]))\n",
        "\n",
        "scaler = MinMaxScaler(feature_range=(0, 1))\n",
        "train = scaler.fit_transform(train)\n",
        "test = scaler.fit_transform(test)\n",
        "\n",
        "\n",
        "train_training = np.array(train[:2* len(train)//3])\n",
        "test_training = np.array(test[:2* len(test)//3])\n",
        "\n",
        "train_testing = np.array(train[2* len(train)//3:])\n",
        "test_testing = np.array(test[2* len(test)//3:])\n"
      ],
      "metadata": {
        "id": "6fkzi3ACRxGP"
      },
      "execution_count": 72,
      "outputs": []
    },
    {
      "cell_type": "code",
      "source": [
        "test_testing.shape, train_testing.shape"
      ],
      "metadata": {
        "colab": {
          "base_uri": "https://localhost:8080/"
        },
        "id": "Ek3SyMO0wUes",
        "outputId": "7917ac0f-5a47-4343-eb76-51da5e8820fa"
      },
      "execution_count": 73,
      "outputs": [
        {
          "output_type": "execute_result",
          "data": {
            "text/plain": [
              "((162, 7), (162, 17))"
            ]
          },
          "metadata": {},
          "execution_count": 73
        }
      ]
    },
    {
      "cell_type": "code",
      "source": [
        "model = Sequential()\n",
        "model.add(LSTM(units = 100,return_sequences=True,input_shape=(17,1)))\n",
        "model.add(LSTM(units =100))\n",
        "model.add(Dense(units=7))\n",
        "\n",
        "model.compile(loss=\"mean_squared_error\", optimizer=\"adam\", metrics=['categorical_accuracy'])\n",
        "\n",
        "history = model.fit(train_training,test_training, epochs=7, batch_size=64)"
      ],
      "metadata": {
        "colab": {
          "base_uri": "https://localhost:8080/"
        },
        "id": "FTZ5b2yywbyZ",
        "outputId": "985e44e8-2d4b-4867-8658-7612f17458e3"
      },
      "execution_count": 88,
      "outputs": [
        {
          "output_type": "stream",
          "name": "stdout",
          "text": [
            "Epoch 1/7\n",
            "6/6 [==============================] - 5s 43ms/step - loss: 0.0136 - categorical_accuracy: 0.2623\n",
            "Epoch 2/7\n",
            "6/6 [==============================] - 0s 38ms/step - loss: 0.0038 - categorical_accuracy: 0.0741\n",
            "Epoch 3/7\n",
            "6/6 [==============================] - 0s 35ms/step - loss: 0.0024 - categorical_accuracy: 0.0247\n",
            "Epoch 4/7\n",
            "6/6 [==============================] - 0s 34ms/step - loss: 0.0014 - categorical_accuracy: 0.4105\n",
            "Epoch 5/7\n",
            "6/6 [==============================] - 0s 34ms/step - loss: 4.5385e-04 - categorical_accuracy: 0.2901\n",
            "Epoch 6/7\n",
            "6/6 [==============================] - 0s 37ms/step - loss: 3.8552e-04 - categorical_accuracy: 0.1512\n",
            "Epoch 7/7\n",
            "6/6 [==============================] - 0s 36ms/step - loss: 1.8983e-04 - categorical_accuracy: 0.4105\n"
          ]
        }
      ]
    },
    {
      "cell_type": "code",
      "source": [
        "pred = model.predict(train_testing)"
      ],
      "metadata": {
        "id": "Ktbjxw4uwnVn"
      },
      "execution_count": 89,
      "outputs": []
    },
    {
      "cell_type": "code",
      "source": [
        "fig,ax = plt.subplots()\n",
        "fig.suptitle(\"Modélisation du nombre de cas covid\")\n",
        "ax.plot(pred, label=\"prediction\")\n",
        "ax.plot(test_testing[:,0], label=\"réel\")\n",
        "plt.legend()\n",
        "plt.show()"
      ],
      "metadata": {
        "colab": {
          "base_uri": "https://localhost:8080/",
          "height": 294
        },
        "id": "cjPtZ9YnwtSt",
        "outputId": "52c780b5-21c9-465c-b175-7564025f5799"
      },
      "execution_count": 90,
      "outputs": [
        {
          "output_type": "display_data",
          "data": {
            "text/plain": [
              "<Figure size 432x288 with 1 Axes>"
            ],
            "image/png": "[encoded data removed]"
          },
          "metadata": {
            "needs_background": "light"
          }
        }
      ]
    },
    {
      "cell_type": "code",
      "source": [
        "rmse = math.sqrt(mean_squared_error(test_testing, pred))\n",
        "print(f'RMSE: {rmse}')\n",
        "\n",
        "fig, ax = plt.subplots()\n",
        "fig.suptitle(\"Modelisation de la perte, MonoVariable\")\n",
        "ax.plot(history.history[\"loss\"])\n",
        "plt.show()"
      ],
      "metadata": {
        "id": "WoFMlVOe6Bko",
        "outputId": "ee699636-0d0c-4fcf-d38d-80cbdc0de340",
        "colab": {
          "base_uri": "https://localhost:8080/",
          "height": 312
        }
      },
      "execution_count": 91,
      "outputs": [
        {
          "output_type": "stream",
          "name": "stdout",
          "text": [
            "RMSE: 0.07879633827979309\n"
          ]
        },
        {
          "output_type": "display_data",
          "data": {
            "text/plain": [
              "<Figure size 432x288 with 1 Axes>"
            ],
            "image/png": "[encoded data removed]"
          },
          "metadata": {
            "needs_background": "light"
          }
        }
      ]
    }
  ]
}