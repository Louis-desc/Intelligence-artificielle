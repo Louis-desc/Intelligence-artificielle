{
 "cells": [
  {
   "cell_type": "markdown",
   "metadata": {},
   "source": [
    "# Analyse des données Covid"
   ]
  },
  {
   "cell_type": "code",
   "execution_count": 2,
   "metadata": {},
   "outputs": [],
   "source": [
    "import pandas as pd \n",
    "import numpy as np \n",
    "import matplotlib.pyplot as plt \n",
    "\n",
    "table = pd.read_csv(\"table-indicateurs-open-data-france-2022-04-03-19h00.csv\")"
   ]
  },
  {
   "cell_type": "markdown",
   "metadata": {},
   "source": [
    "Maintenant, nous allons modifier notre dataframe afin qu'il corresponde mieux à nos besoins. "
   ]
  },
  {
   "cell_type": "code",
   "execution_count": 3,
   "metadata": {},
   "outputs": [
    {
     "name": "stdout",
     "output_type": "stream",
     "text": [
      "Index(['date', 'tx_pos', 'tx_incid', 'TO', 'R', 'rea', 'hosp', 'rad', 'dchosp',\n",
      "       'incid_rea', 'incid_hosp', 'incid_rad', 'incid_dchosp', 'conf',\n",
      "       'conf_j1', 'pos', 'esms_dc', 'dc_tot', 'pos_7j', 'cv_dose1',\n",
      "       'esms_cas'],\n",
      "      dtype='object')\n",
      "Index(['date', 'TO', 'R', 'hosp', 'rad', 'dchosp', 'conf', 'conf_j1',\n",
      "       'esms_dc', 'dc_tot'],\n",
      "      dtype='object')\n",
      "           date        TO   R     hosp       rad    dchosp  conf   conf_j1  \\\n",
      "0    2020-01-23       NaN NaN      NaN       NaN       NaN   NaN       NaN   \n",
      "1    2020-01-24       NaN NaN      NaN       NaN       NaN   NaN       NaN   \n",
      "2    2020-01-25       NaN NaN      NaN       NaN       NaN   NaN       NaN   \n",
      "3    2020-01-26       NaN NaN      NaN       NaN       NaN   NaN       NaN   \n",
      "4    2020-01-27       NaN NaN      NaN       NaN       NaN   NaN       NaN   \n",
      "..          ...       ...  ..      ...       ...       ...   ...       ...   \n",
      "797  2022-03-30  0.305654 NaN  21688.0  598673.0  113659.0   NaN  169024.0   \n",
      "798  2022-03-31  0.306643 NaN  21922.0  600034.0  113779.0   NaN  169311.0   \n",
      "799  2022-04-01  0.303875 NaN  22066.0  601418.0  113904.0   NaN  148629.0   \n",
      "800  2022-04-02  0.301107 NaN  22113.0  602269.0  113961.0   NaN  132114.0   \n",
      "801  2022-04-03  0.304270 NaN  22251.0  602444.0  113985.0   NaN  102266.0   \n",
      "\n",
      "     esms_dc    dc_tot  \n",
      "0        NaN       NaN  \n",
      "1        NaN       NaN  \n",
      "2        NaN       NaN  \n",
      "3        NaN       NaN  \n",
      "4        NaN       NaN  \n",
      "..       ...       ...  \n",
      "797  28475.0  142134.0  \n",
      "798  28494.0  142273.0  \n",
      "799  28503.0  142407.0  \n",
      "800  28514.0  142475.0  \n",
      "801  28521.0  142506.0  \n",
      "\n",
      "[802 rows x 10 columns]\n"
     ]
    }
   ],
   "source": [
    "print(table.columns)\n",
    "table.drop(columns=['tx_pos','tx_incid','rea','incid_rea','incid_hosp','incid_rad','incid_dchosp','pos','pos_7j','esms_cas','cv_dose1'],inplace=True) \n",
    "print(table.columns)\n",
    "print(table)\n",
    "# print(table2[0:5])"
   ]
  },
  {
   "cell_type": "markdown",
   "metadata": {},
   "source": [
    "On va seulement garder ces huits colonnes `date`, `TO`, `R`, `hosp`, `rad`, `conf`, `conf_j1` et `dc_tot`. On travaillera sur ce jeu de données plus petit pour simplifier les calculs et permettre un meilleur apprentissage. "
   ]
  },
  {
   "cell_type": "code",
   "execution_count": 4,
   "metadata": {},
   "outputs": [],
   "source": [
    "table.drop(index=table[0:294].index, inplace=True)"
   ]
  },
  {
   "cell_type": "code",
   "execution_count": 5,
   "metadata": {},
   "outputs": [],
   "source": [
    "table['dc_tot'] = table['esms_dc'] + table['dchosp']"
   ]
  },
  {
   "cell_type": "code",
   "execution_count": null,
   "metadata": {},
   "outputs": [],
   "source": [
    "table['conf'] = "
   ]
  }
 ],
 "metadata": {
  "interpreter": {
   "hash": "7b4b8ce1a686fd7089c2cecec15ebb2a862d279e2cb5d9cf582f94e3f5029527"
  },
  "kernelspec": {
   "display_name": "Python 3.9.7 64-bit",
   "language": "python",
   "name": "python3"
  },
  "language_info": {
   "codemirror_mode": {
    "name": "ipython",
    "version": 3
   },
   "file_extension": ".py",
   "mimetype": "text/x-python",
   "name": "python",
   "nbconvert_exporter": "python",
   "pygments_lexer": "ipython3",
   "version": "3.9.7"
  },
  "orig_nbformat": 4
 },
 "nbformat": 4,
 "nbformat_minor": 2
}
