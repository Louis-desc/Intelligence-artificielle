{
 "cells": [
  {
   "cell_type": "markdown",
   "metadata": {},
   "source": [
    "# Analyse des données Covid"
   ]
  },
  {
   "cell_type": "code",
   "execution_count": 20,
   "metadata": {},
   "outputs": [],
   "source": [
    "import pandas as pd \n",
    "import numpy as np \n",
    "import matplotlib.pyplot as plt \n",
    "\n",
    "table = pd.read_csv(\"table-indicateurs-open-data-france-2022-04-03-19h00.csv\")"
   ]
  },
  {
   "cell_type": "markdown",
   "metadata": {},
   "source": [
    "Maintenant, nous allons modifier notre dataframe afin qu'il corresponde mieux à nos besoins. "
   ]
  },
  {
   "cell_type": "code",
   "execution_count": 21,
   "metadata": {},
   "outputs": [
    {
     "name": "stdout",
     "output_type": "stream",
     "text": [
      "Index(['date', 'tx_pos', 'tx_incid', 'TO', 'R', 'rea', 'hosp', 'rad', 'dchosp',\n",
      "       'incid_rea', 'incid_hosp', 'incid_rad', 'incid_dchosp', 'conf',\n",
      "       'conf_j1', 'pos', 'esms_dc', 'dc_tot', 'pos_7j', 'cv_dose1',\n",
      "       'esms_cas'],\n",
      "      dtype='object')\n",
      "Index(['date', 'TO', 'R', 'hosp', 'rad', 'dchosp', 'conf', 'conf_j1',\n",
      "       'esms_dc', 'dc_tot'],\n",
      "      dtype='object')\n",
      "           date        TO   R     hosp       rad    dchosp  conf   conf_j1  \\\n",
      "0    2020-01-23       NaN NaN      NaN       NaN       NaN   NaN       NaN   \n",
      "1    2020-01-24       NaN NaN      NaN       NaN       NaN   NaN       NaN   \n",
      "2    2020-01-25       NaN NaN      NaN       NaN       NaN   NaN       NaN   \n",
      "3    2020-01-26       NaN NaN      NaN       NaN       NaN   NaN       NaN   \n",
      "4    2020-01-27       NaN NaN      NaN       NaN       NaN   NaN       NaN   \n",
      "..          ...       ...  ..      ...       ...       ...   ...       ...   \n",
      "797  2022-03-30  0.305654 NaN  21688.0  598673.0  113659.0   NaN  169024.0   \n",
      "798  2022-03-31  0.306643 NaN  21922.0  600034.0  113779.0   NaN  169311.0   \n",
      "799  2022-04-01  0.303875 NaN  22066.0  601418.0  113904.0   NaN  148629.0   \n",
      "800  2022-04-02  0.301107 NaN  22113.0  602269.0  113961.0   NaN  132114.0   \n",
      "801  2022-04-03  0.304270 NaN  22251.0  602444.0  113985.0   NaN  102266.0   \n",
      "\n",
      "     esms_dc    dc_tot  \n",
      "0        NaN       NaN  \n",
      "1        NaN       NaN  \n",
      "2        NaN       NaN  \n",
      "3        NaN       NaN  \n",
      "4        NaN       NaN  \n",
      "..       ...       ...  \n",
      "797  28475.0  142134.0  \n",
      "798  28494.0  142273.0  \n",
      "799  28503.0  142407.0  \n",
      "800  28514.0  142475.0  \n",
      "801  28521.0  142506.0  \n",
      "\n",
      "[802 rows x 10 columns]\n"
     ]
    }
   ],
   "source": [
    "print(table.columns)\n",
    "table.drop(columns=['tx_pos','tx_incid','rea','incid_rea','incid_hosp','incid_rad','incid_dchosp','pos','pos_7j','esms_cas','cv_dose1'],inplace=True) \n",
    "print(table.columns)\n",
    "print(table)\n",
    "# print(table2[0:5])"
   ]
  },
  {
   "cell_type": "markdown",
   "metadata": {},
   "source": [
    "On va seulement garder ces huits colonnes `date`, `TO`, `R`, `hosp`, `rad`, `conf`, `conf_j1` et `dc_tot`. On travaillera sur ce jeu de données plus petit pour simplifier les calculs et permettre un meilleur apprentissage. "
   ]
  },
  {
   "cell_type": "code",
   "execution_count": 22,
   "metadata": {},
   "outputs": [],
   "source": [
    "table.drop(index=table[0:294].index, inplace=True)\n",
    "table.fillna(0,inplace=True)"
   ]
  },
  {
   "cell_type": "code",
   "execution_count": 23,
   "metadata": {},
   "outputs": [],
   "source": [
    "table['dc_tot'] = table['esms_dc'] + table['dchosp']"
   ]
  },
  {
   "cell_type": "code",
   "execution_count": 25,
   "metadata": {},
   "outputs": [
    {
     "name": "stderr",
     "output_type": "stream",
     "text": [
      "/var/folders/m0/j_t4z6m53nbbsm9dxrpsktb80000gn/T/ipykernel_848/2504011346.py:1: SettingWithCopyWarning: \n",
      "A value is trying to be set on a copy of a slice from a DataFrame\n",
      "\n",
      "See the caveats in the documentation: https://pandas.pydata.org/pandas-docs/stable/user_guide/indexing.html#returning-a-view-versus-a-copy\n",
      "  table['conf'].iloc[0] = table['conf_j1'].iloc[0]\n",
      "/var/folders/m0/j_t4z6m53nbbsm9dxrpsktb80000gn/T/ipykernel_848/2504011346.py:3: SettingWithCopyWarning: \n",
      "A value is trying to be set on a copy of a slice from a DataFrame\n",
      "\n",
      "See the caveats in the documentation: https://pandas.pydata.org/pandas-docs/stable/user_guide/indexing.html#returning-a-view-versus-a-copy\n",
      "  table['conf'].iloc[k+1] = table['conf'].iloc[k] + table['conf_j1'].iloc[k+1]\n"
     ]
    }
   ],
   "source": [
    "table['conf'].iloc[0] = table['conf_j1'].iloc[0]\n",
    "for k in range(len(table)-1) : \n",
    "    table['conf'].iloc[k+1] = table['conf'].iloc[k] + table['conf_j1'].iloc[k+1] "
   ]
  },
  {
   "cell_type": "code",
   "execution_count": 26,
   "metadata": {},
   "outputs": [
    {
     "data": {
      "text/html": [
       "<div>\n",
       "<style scoped>\n",
       "    .dataframe tbody tr th:only-of-type {\n",
       "        vertical-align: middle;\n",
       "    }\n",
       "\n",
       "    .dataframe tbody tr th {\n",
       "        vertical-align: top;\n",
       "    }\n",
       "\n",
       "    .dataframe thead th {\n",
       "        text-align: right;\n",
       "    }\n",
       "</style>\n",
       "<table border=\"1\" class=\"dataframe\">\n",
       "  <thead>\n",
       "    <tr style=\"text-align: right;\">\n",
       "      <th></th>\n",
       "      <th>date</th>\n",
       "      <th>TO</th>\n",
       "      <th>R</th>\n",
       "      <th>hosp</th>\n",
       "      <th>rad</th>\n",
       "      <th>dchosp</th>\n",
       "      <th>conf</th>\n",
       "      <th>conf_j1</th>\n",
       "      <th>esms_dc</th>\n",
       "      <th>dc_tot</th>\n",
       "    </tr>\n",
       "  </thead>\n",
       "  <tbody>\n",
       "    <tr>\n",
       "      <th>294</th>\n",
       "      <td>2020-11-12</td>\n",
       "      <td>0.965599</td>\n",
       "      <td>0.712412</td>\n",
       "      <td>32654.0</td>\n",
       "      <td>134923.0</td>\n",
       "      <td>29673.0</td>\n",
       "      <td>33172.0</td>\n",
       "      <td>33172.0</td>\n",
       "      <td>0.0</td>\n",
       "      <td>29673.0</td>\n",
       "    </tr>\n",
       "    <tr>\n",
       "      <th>295</th>\n",
       "      <td>2020-11-13</td>\n",
       "      <td>0.966192</td>\n",
       "      <td>0.682531</td>\n",
       "      <td>32676.0</td>\n",
       "      <td>137124.0</td>\n",
       "      <td>30129.0</td>\n",
       "      <td>56966.0</td>\n",
       "      <td>23794.0</td>\n",
       "      <td>0.0</td>\n",
       "      <td>30129.0</td>\n",
       "    </tr>\n",
       "    <tr>\n",
       "      <th>296</th>\n",
       "      <td>2020-11-14</td>\n",
       "      <td>0.959866</td>\n",
       "      <td>0.658918</td>\n",
       "      <td>32468.0</td>\n",
       "      <td>139110.0</td>\n",
       "      <td>30483.0</td>\n",
       "      <td>89061.0</td>\n",
       "      <td>32095.0</td>\n",
       "      <td>0.0</td>\n",
       "      <td>30483.0</td>\n",
       "    </tr>\n",
       "    <tr>\n",
       "      <th>297</th>\n",
       "      <td>2020-11-15</td>\n",
       "      <td>0.964808</td>\n",
       "      <td>0.641595</td>\n",
       "      <td>33050.0</td>\n",
       "      <td>139779.0</td>\n",
       "      <td>30785.0</td>\n",
       "      <td>116289.0</td>\n",
       "      <td>27228.0</td>\n",
       "      <td>0.0</td>\n",
       "      <td>30785.0</td>\n",
       "    </tr>\n",
       "    <tr>\n",
       "      <th>298</th>\n",
       "      <td>2020-11-16</td>\n",
       "      <td>0.969355</td>\n",
       "      <td>0.630205</td>\n",
       "      <td>33466.0</td>\n",
       "      <td>140849.0</td>\n",
       "      <td>31291.0</td>\n",
       "      <td>125695.0</td>\n",
       "      <td>9406.0</td>\n",
       "      <td>0.0</td>\n",
       "      <td>31291.0</td>\n",
       "    </tr>\n",
       "    <tr>\n",
       "      <th>...</th>\n",
       "      <td>...</td>\n",
       "      <td>...</td>\n",
       "      <td>...</td>\n",
       "      <td>...</td>\n",
       "      <td>...</td>\n",
       "      <td>...</td>\n",
       "      <td>...</td>\n",
       "      <td>...</td>\n",
       "      <td>...</td>\n",
       "      <td>...</td>\n",
       "    </tr>\n",
       "    <tr>\n",
       "      <th>797</th>\n",
       "      <td>2022-03-30</td>\n",
       "      <td>0.305654</td>\n",
       "      <td>0.000000</td>\n",
       "      <td>21688.0</td>\n",
       "      <td>598673.0</td>\n",
       "      <td>113659.0</td>\n",
       "      <td>23944255.0</td>\n",
       "      <td>169024.0</td>\n",
       "      <td>28475.0</td>\n",
       "      <td>142134.0</td>\n",
       "    </tr>\n",
       "    <tr>\n",
       "      <th>798</th>\n",
       "      <td>2022-03-31</td>\n",
       "      <td>0.306643</td>\n",
       "      <td>0.000000</td>\n",
       "      <td>21922.0</td>\n",
       "      <td>600034.0</td>\n",
       "      <td>113779.0</td>\n",
       "      <td>24113566.0</td>\n",
       "      <td>169311.0</td>\n",
       "      <td>28494.0</td>\n",
       "      <td>142273.0</td>\n",
       "    </tr>\n",
       "    <tr>\n",
       "      <th>799</th>\n",
       "      <td>2022-04-01</td>\n",
       "      <td>0.303875</td>\n",
       "      <td>0.000000</td>\n",
       "      <td>22066.0</td>\n",
       "      <td>601418.0</td>\n",
       "      <td>113904.0</td>\n",
       "      <td>24262195.0</td>\n",
       "      <td>148629.0</td>\n",
       "      <td>28503.0</td>\n",
       "      <td>142407.0</td>\n",
       "    </tr>\n",
       "    <tr>\n",
       "      <th>800</th>\n",
       "      <td>2022-04-02</td>\n",
       "      <td>0.301107</td>\n",
       "      <td>0.000000</td>\n",
       "      <td>22113.0</td>\n",
       "      <td>602269.0</td>\n",
       "      <td>113961.0</td>\n",
       "      <td>24394309.0</td>\n",
       "      <td>132114.0</td>\n",
       "      <td>28514.0</td>\n",
       "      <td>142475.0</td>\n",
       "    </tr>\n",
       "    <tr>\n",
       "      <th>801</th>\n",
       "      <td>2022-04-03</td>\n",
       "      <td>0.304270</td>\n",
       "      <td>0.000000</td>\n",
       "      <td>22251.0</td>\n",
       "      <td>602444.0</td>\n",
       "      <td>113985.0</td>\n",
       "      <td>24496575.0</td>\n",
       "      <td>102266.0</td>\n",
       "      <td>28521.0</td>\n",
       "      <td>142506.0</td>\n",
       "    </tr>\n",
       "  </tbody>\n",
       "</table>\n",
       "<p>508 rows × 10 columns</p>\n",
       "</div>"
      ],
      "text/plain": [
       "           date        TO         R     hosp       rad    dchosp        conf  \\\n",
       "294  2020-11-12  0.965599  0.712412  32654.0  134923.0   29673.0     33172.0   \n",
       "295  2020-11-13  0.966192  0.682531  32676.0  137124.0   30129.0     56966.0   \n",
       "296  2020-11-14  0.959866  0.658918  32468.0  139110.0   30483.0     89061.0   \n",
       "297  2020-11-15  0.964808  0.641595  33050.0  139779.0   30785.0    116289.0   \n",
       "298  2020-11-16  0.969355  0.630205  33466.0  140849.0   31291.0    125695.0   \n",
       "..          ...       ...       ...      ...       ...       ...         ...   \n",
       "797  2022-03-30  0.305654  0.000000  21688.0  598673.0  113659.0  23944255.0   \n",
       "798  2022-03-31  0.306643  0.000000  21922.0  600034.0  113779.0  24113566.0   \n",
       "799  2022-04-01  0.303875  0.000000  22066.0  601418.0  113904.0  24262195.0   \n",
       "800  2022-04-02  0.301107  0.000000  22113.0  602269.0  113961.0  24394309.0   \n",
       "801  2022-04-03  0.304270  0.000000  22251.0  602444.0  113985.0  24496575.0   \n",
       "\n",
       "      conf_j1  esms_dc    dc_tot  \n",
       "294   33172.0      0.0   29673.0  \n",
       "295   23794.0      0.0   30129.0  \n",
       "296   32095.0      0.0   30483.0  \n",
       "297   27228.0      0.0   30785.0  \n",
       "298    9406.0      0.0   31291.0  \n",
       "..        ...      ...       ...  \n",
       "797  169024.0  28475.0  142134.0  \n",
       "798  169311.0  28494.0  142273.0  \n",
       "799  148629.0  28503.0  142407.0  \n",
       "800  132114.0  28514.0  142475.0  \n",
       "801  102266.0  28521.0  142506.0  \n",
       "\n",
       "[508 rows x 10 columns]"
      ]
     },
     "execution_count": 26,
     "metadata": {},
     "output_type": "execute_result"
    }
   ],
   "source": [
    "table"
   ]
  },
  {
   "cell_type": "markdown",
   "metadata": {},
   "source": [
    "On a maintenant une base de donnée utilisable pour un apprentissage."
   ]
  },
  {
   "cell_type": "code",
   "execution_count": 27,
   "metadata": {},
   "outputs": [],
   "source": [
    "table.drop(columns=['dchosp','esms_dc'], inplace=True)\n",
    "table.to_csv(\"./Dataframe_clean.csv\")"
   ]
  },
  {
   "cell_type": "markdown",
   "metadata": {},
   "source": [
    "# Graphique des données utilisées "
   ]
  },
  {
   "cell_type": "code",
   "execution_count": 31,
   "metadata": {},
   "outputs": [
    {
     "data": {
      "text/plain": [
       "<AxesSubplot:ylabel='conf'>"
      ]
     },
     "execution_count": 31,
     "metadata": {},
     "output_type": "execute_result"
    },
    {
     "data": {
      "image/png": "[encoded data removed]",
      "text/plain": [
       "<Figure size 432x288 with 1 Axes>"
      ]
     },
     "metadata": {
      "needs_background": "light"
     },
     "output_type": "display_data"
    }
   ],
   "source": [
    "import seaborn as sb\n",
    "\n",
    "sb.lineplot(y = table['conf'], x= range(508),legend=\"Tous les cas confirmés\")\n",
    "sb.lineplot(y = table['conf_j1'], x = range(508), legend=\"Cas confirmés sur 1j\")"
   ]
  }
 ],
 "metadata": {
  "interpreter": {
   "hash": "7b4b8ce1a686fd7089c2cecec15ebb2a862d279e2cb5d9cf582f94e3f5029527"
  },
  "kernelspec": {
   "display_name": "Python 3.9.7 64-bit",
   "language": "python",
   "name": "python3"
  },
  "language_info": {
   "codemirror_mode": {
    "name": "ipython",
    "version": 3
   },
   "file_extension": ".py",
   "mimetype": "text/x-python",
   "name": "python",
   "nbconvert_exporter": "python",
   "pygments_lexer": "ipython3",
   "version": "3.10.4"
  },
  "orig_nbformat": 4
 },
 "nbformat": 4,
 "nbformat_minor": 2
}
