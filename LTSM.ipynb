{
 "cells": [
  {
   "cell_type": "markdown",
   "metadata": {},
   "source": [
    "# LTSM, Variable Monodimensionnelle\n"
   ]
  },
  {
   "cell_type": "code",
   "execution_count": null,
   "metadata": {},
   "outputs": [],
   "source": [
    "import keras as kr \n",
    "import numpy as np \n",
    "import matplotlib.pyplot as plt \n"
   ]
  },
  {
   "cell_type": "code",
   "execution_count": null,
   "metadata": {},
   "outputs": [],
   "source": [
    "class KerasBatchGenerator(object): \n",
    "    def ___init__(self,data,batchsize,numsteps):\n",
    "        self.data = data \n",
    "        self.numsteps = numsteps\n",
    "        self.batchsize = batchsize\n",
    "        self.current_idx = 0 \n",
    "\n",
    "    def generate(self) : \n",
    "        while True : \n",
    "            for i in range(self.batchsize):\n",
    "                if self.current_idx + self.numsteps\n"
   ]
  }
 ],
 "metadata": {
  "language_info": {
   "name": "python"
  },
  "orig_nbformat": 4
 },
 "nbformat": 4,
 "nbformat_minor": 2
}
