{
  "nbformat": 4,
  "nbformat_minor": 0,
  "metadata": {
    "colab": {
      "name": "LSTM Mono Variable.ipynb",
      "provenance": [],
      "collapsed_sections": []
    },
    "kernelspec": {
      "name": "python3",
      "display_name": "Python 3"
    },
    "language_info": {
      "name": "python"
    }
  },
  "cells": [
    {
      "cell_type": "markdown",
      "source": [
        "# Avec une seule variable \n",
        "\n"
      ],
      "metadata": {
        "id": "tD-s7e6V0kzN"
      }
    },
    {
      "cell_type": "code",
      "source": [
        "import numpy as np\n",
        "import pandas as pd\n",
        "import matplotlib.pyplot as plt\n",
        "import seaborn as sns \n",
        "import math\n",
        "from keras.models import Sequential\n",
        "from keras.layers import Dense\n",
        "from keras.layers import LSTM\n",
        "from sklearn.preprocessing import MinMaxScaler\n",
        "from sklearn.metrics import mean_squared_error"
      ],
      "metadata": {
        "id": "YkYG2ObX5C34"
      },
      "execution_count": 219,
      "outputs": []
    },
    {
      "cell_type": "code",
      "source": [
        "df = pd.read_csv(\"Dataframe_clean.csv\")\n",
        "conf_df = pd.DataFrame(df[\"conf\"])\n",
        "dc_df = pd.DataFrame(df[\"dc_tot\"])"
      ],
      "metadata": {
        "id": "PZRTjjlK5qt-"
      },
      "execution_count": 220,
      "outputs": []
    },
    {
      "cell_type": "markdown",
      "source": [
        "On va maintenant scaller les données pour les adapter à notre réseau."
      ],
      "metadata": {
        "id": "mz6PLZkI6-0u"
      }
    },
    {
      "cell_type": "code",
      "source": [
        "scaler = MinMaxScaler(feature_range=(0, 1))\n",
        "conf = scaler.fit_transform(conf_df)\n",
        "dc = scaler.fit_transform(dc_df)"
      ],
      "metadata": {
        "id": "8NrGmFPz9FGV"
      },
      "execution_count": 221,
      "outputs": []
    },
    {
      "cell_type": "markdown",
      "source": [
        "On va maintenant créer nos batchs d'entrainement et de test. On utilisera la même répartition que pour la régression sur de courtes durées. C'est à dire 2 semaines de données pour une semaine de prédiction\n",
        "\n",
        "On recoupera ensuite cette série en deux sous séries d'entrainement et de test. "
      ],
      "metadata": {
        "id": "2S__pZtU9jl-"
      }
    },
    {
      "cell_type": "code",
      "source": [
        "train = []\n",
        "test = []\n",
        "\n",
        "for k in range(15,508-8) : \n",
        "  train.append(np.array(conf[k-14:k]))\n",
        "  test.append(np.array(conf[k:k+7]))\n",
        "\n",
        "train_training = np.array(train[:2* len(train)//3])\n",
        "test_training = np.array(test[:2* len(test)//3])\n",
        "\n",
        "train_testing = np.array(train[2* len(train)//3:])\n",
        "test_testing = np.array(test[2* len(test)//3:])\n",
        "\n",
        "# test_df = df[~df.index.isin(index_train)]\n",
        "# fig, ax = plt.subplots()\n",
        "# ax.scatter(train_df.index,train_df[\"conf\"],marker='.',label=\"entrainement\")\n",
        "# ax.scatter(test_df.index,test_df[\"conf\"],marker='.',color=\"purple\",label=\"test\")\n",
        "# plt.legend()\n",
        "# ax.set_title(\"Répartition d'entrainement/test\")\n",
        "# plt.show()"
      ],
      "metadata": {
        "id": "SxJ5Mgt8Qpn6"
      },
      "execution_count": 222,
      "outputs": []
    },
    {
      "cell_type": "code",
      "source": [
        "test_testing.shape, train_testing.shape"
      ],
      "metadata": {
        "colab": {
          "base_uri": "https://localhost:8080/"
        },
        "id": "qkAdgbZM0seo",
        "outputId": "c8f5f163-372d-4be9-acc5-3d4c6c6485c1"
      },
      "execution_count": 223,
      "outputs": [
        {
          "output_type": "execute_result",
          "data": {
            "text/plain": [
              "((162, 7, 1), (162, 14, 1))"
            ]
          },
          "metadata": {},
          "execution_count": 223
        }
      ]
    },
    {
      "cell_type": "code",
      "source": [
        "model = Sequential()\n",
        "model.add(LSTM(units = 1000,return_sequences=True,input_shape=(14,1)))\n",
        "model.add(LSTM(units =1000))\n",
        "model.add(Dense(units=7))\n",
        "\n",
        "model.compile(loss=\"mean_squared_error\", optimizer=\"adam\", metrics=['categorical_accuracy'])\n",
        "\n"
      ],
      "metadata": {
        "id": "pG_MkSQ8xxLf"
      },
      "execution_count": 224,
      "outputs": []
    },
    {
      "cell_type": "code",
      "source": [
        "history = model.fit(train_training,test_training, epochs=100, batch_size=64)\n",
        "\n"
      ],
      "metadata": {
        "colab": {
          "base_uri": "https://localhost:8080/"
        },
        "id": "UCuACVOTnJ9-",
        "outputId": "f7f9543f-bfa4-4309-8bef-9dd41aca00ce"
      },
      "execution_count": 225,
      "outputs": [
        {
          "output_type": "stream",
          "name": "stdout",
          "text": [
            "Epoch 1/100\n",
            "6/6 [==============================] - 14s 2s/step - loss: 0.0164 - categorical_accuracy: 0.0000e+00\n",
            "Epoch 2/100\n",
            "6/6 [==============================] - 10s 2s/step - loss: 0.0056 - categorical_accuracy: 0.0000e+00\n",
            "Epoch 3/100\n",
            "6/6 [==============================] - 10s 2s/step - loss: 0.0033 - categorical_accuracy: 0.1734\n",
            "Epoch 4/100\n",
            "6/6 [==============================] - 10s 2s/step - loss: 8.4238e-04 - categorical_accuracy: 0.0000e+00\n",
            "Epoch 5/100\n",
            "6/6 [==============================] - 10s 2s/step - loss: 5.4188e-04 - categorical_accuracy: 0.1486\n",
            "Epoch 6/100\n",
            "6/6 [==============================] - 10s 2s/step - loss: 2.8267e-04 - categorical_accuracy: 0.0093\n",
            "Epoch 7/100\n",
            "6/6 [==============================] - 10s 2s/step - loss: 1.6866e-04 - categorical_accuracy: 0.1393\n",
            "Epoch 8/100\n",
            "6/6 [==============================] - 10s 2s/step - loss: 1.1986e-04 - categorical_accuracy: 0.2229\n",
            "Epoch 9/100\n",
            "6/6 [==============================] - 10s 2s/step - loss: 6.8436e-05 - categorical_accuracy: 0.1300\n",
            "Epoch 10/100\n",
            "6/6 [==============================] - 10s 2s/step - loss: 3.9033e-05 - categorical_accuracy: 0.3220\n",
            "Epoch 11/100\n",
            "6/6 [==============================] - 10s 2s/step - loss: 4.1699e-05 - categorical_accuracy: 0.6006\n",
            "Epoch 12/100\n",
            "6/6 [==============================] - 10s 2s/step - loss: 2.6984e-05 - categorical_accuracy: 0.1517\n",
            "Epoch 13/100\n",
            "6/6 [==============================] - 10s 2s/step - loss: 2.0783e-05 - categorical_accuracy: 0.5666\n",
            "Epoch 14/100\n",
            "6/6 [==============================] - 10s 2s/step - loss: 1.8251e-05 - categorical_accuracy: 0.1331\n",
            "Epoch 15/100\n",
            "6/6 [==============================] - 10s 2s/step - loss: 1.4085e-05 - categorical_accuracy: 0.6037\n",
            "Epoch 16/100\n",
            "6/6 [==============================] - 10s 2s/step - loss: 1.2741e-05 - categorical_accuracy: 0.4613\n",
            "Epoch 17/100\n",
            "6/6 [==============================] - 10s 2s/step - loss: 1.3727e-05 - categorical_accuracy: 0.7028\n",
            "Epoch 18/100\n",
            "6/6 [==============================] - 10s 2s/step - loss: 1.5611e-05 - categorical_accuracy: 0.5232\n",
            "Epoch 19/100\n",
            "6/6 [==============================] - 10s 2s/step - loss: 1.2635e-05 - categorical_accuracy: 0.9009\n",
            "Epoch 20/100\n",
            "6/6 [==============================] - 10s 2s/step - loss: 1.4399e-05 - categorical_accuracy: 0.8050\n",
            "Epoch 21/100\n",
            "6/6 [==============================] - 10s 2s/step - loss: 1.3119e-05 - categorical_accuracy: 0.7678\n",
            "Epoch 22/100\n",
            "6/6 [==============================] - 10s 2s/step - loss: 2.0918e-05 - categorical_accuracy: 0.6533\n",
            "Epoch 23/100\n",
            "6/6 [==============================] - 10s 2s/step - loss: 1.7341e-05 - categorical_accuracy: 0.7740\n",
            "Epoch 24/100\n",
            "6/6 [==============================] - 10s 2s/step - loss: 1.3900e-05 - categorical_accuracy: 0.9814\n",
            "Epoch 25/100\n",
            "6/6 [==============================] - 10s 2s/step - loss: 1.2896e-05 - categorical_accuracy: 0.9783\n",
            "Epoch 26/100\n",
            "6/6 [==============================] - 10s 2s/step - loss: 1.3469e-05 - categorical_accuracy: 1.0000\n",
            "Epoch 27/100\n",
            "6/6 [==============================] - 10s 2s/step - loss: 1.9553e-05 - categorical_accuracy: 0.8080\n",
            "Epoch 28/100\n",
            "6/6 [==============================] - 10s 2s/step - loss: 1.2985e-05 - categorical_accuracy: 0.8700\n",
            "Epoch 29/100\n",
            "6/6 [==============================] - 10s 2s/step - loss: 1.1901e-05 - categorical_accuracy: 0.9907\n",
            "Epoch 30/100\n",
            "6/6 [==============================] - 10s 2s/step - loss: 1.4990e-05 - categorical_accuracy: 0.9226\n",
            "Epoch 31/100\n",
            "6/6 [==============================] - 10s 2s/step - loss: 1.2489e-05 - categorical_accuracy: 0.9845\n",
            "Epoch 32/100\n",
            "6/6 [==============================] - 10s 2s/step - loss: 1.7612e-05 - categorical_accuracy: 0.7802\n",
            "Epoch 33/100\n",
            "6/6 [==============================] - 10s 2s/step - loss: 1.4299e-05 - categorical_accuracy: 0.7740\n",
            "Epoch 34/100\n",
            "6/6 [==============================] - 10s 2s/step - loss: 1.2405e-05 - categorical_accuracy: 0.8111\n",
            "Epoch 35/100\n",
            "6/6 [==============================] - 10s 2s/step - loss: 1.2882e-05 - categorical_accuracy: 0.9288\n",
            "Epoch 36/100\n",
            "6/6 [==============================] - 10s 2s/step - loss: 1.3747e-05 - categorical_accuracy: 0.7895\n",
            "Epoch 37/100\n",
            "6/6 [==============================] - 10s 2s/step - loss: 1.5925e-05 - categorical_accuracy: 0.8762\n",
            "Epoch 38/100\n",
            "6/6 [==============================] - 10s 2s/step - loss: 1.6577e-05 - categorical_accuracy: 0.9412\n",
            "Epoch 39/100\n",
            "6/6 [==============================] - 10s 2s/step - loss: 1.2324e-05 - categorical_accuracy: 0.9969\n",
            "Epoch 40/100\n",
            "6/6 [==============================] - 10s 2s/step - loss: 2.2322e-05 - categorical_accuracy: 0.8607\n",
            "Epoch 41/100\n",
            "6/6 [==============================] - 10s 2s/step - loss: 1.7236e-05 - categorical_accuracy: 0.8545\n",
            "Epoch 42/100\n",
            "6/6 [==============================] - 10s 2s/step - loss: 3.2381e-05 - categorical_accuracy: 0.6687\n",
            "Epoch 43/100\n",
            "6/6 [==============================] - 10s 2s/step - loss: 4.1726e-05 - categorical_accuracy: 0.6316\n",
            "Epoch 44/100\n",
            "6/6 [==============================] - 10s 2s/step - loss: 2.5607e-05 - categorical_accuracy: 0.6130\n",
            "Epoch 45/100\n",
            "6/6 [==============================] - 10s 2s/step - loss: 1.3514e-05 - categorical_accuracy: 0.6223\n",
            "Epoch 46/100\n",
            "6/6 [==============================] - 10s 2s/step - loss: 1.2960e-05 - categorical_accuracy: 0.7276\n",
            "Epoch 47/100\n",
            "6/6 [==============================] - 10s 2s/step - loss: 1.3870e-05 - categorical_accuracy: 0.8700\n",
            "Epoch 48/100\n",
            "6/6 [==============================] - 10s 2s/step - loss: 2.2657e-05 - categorical_accuracy: 0.7523\n",
            "Epoch 49/100\n",
            "6/6 [==============================] - 10s 2s/step - loss: 2.0816e-05 - categorical_accuracy: 0.7152\n",
            "Epoch 50/100\n",
            "6/6 [==============================] - 10s 2s/step - loss: 2.4449e-05 - categorical_accuracy: 0.7028\n",
            "Epoch 51/100\n",
            "6/6 [==============================] - 10s 2s/step - loss: 3.3862e-05 - categorical_accuracy: 0.5728\n",
            "Epoch 52/100\n",
            "6/6 [==============================] - 10s 2s/step - loss: 6.9817e-05 - categorical_accuracy: 0.5449\n",
            "Epoch 53/100\n",
            "6/6 [==============================] - 10s 2s/step - loss: 2.7309e-05 - categorical_accuracy: 0.4396\n",
            "Epoch 54/100\n",
            "6/6 [==============================] - 10s 2s/step - loss: 1.8100e-05 - categorical_accuracy: 0.5077\n",
            "Epoch 55/100\n",
            "6/6 [==============================] - 10s 2s/step - loss: 1.3604e-05 - categorical_accuracy: 0.4830\n",
            "Epoch 56/100\n",
            "6/6 [==============================] - 10s 2s/step - loss: 1.4658e-05 - categorical_accuracy: 0.5201\n",
            "Epoch 57/100\n",
            "6/6 [==============================] - 10s 2s/step - loss: 1.7488e-05 - categorical_accuracy: 0.5635\n",
            "Epoch 58/100\n",
            "6/6 [==============================] - 10s 2s/step - loss: 1.9388e-05 - categorical_accuracy: 0.6502\n",
            "Epoch 59/100\n",
            "6/6 [==============================] - 10s 2s/step - loss: 1.4179e-05 - categorical_accuracy: 0.6811\n",
            "Epoch 60/100\n",
            "6/6 [==============================] - 10s 2s/step - loss: 1.5901e-05 - categorical_accuracy: 0.9009\n",
            "Epoch 61/100\n",
            "6/6 [==============================] - 10s 2s/step - loss: 2.3369e-05 - categorical_accuracy: 0.8947\n",
            "Epoch 62/100\n",
            "6/6 [==============================] - 10s 2s/step - loss: 2.0775e-05 - categorical_accuracy: 0.7678\n",
            "Epoch 63/100\n",
            "6/6 [==============================] - 10s 2s/step - loss: 3.2481e-05 - categorical_accuracy: 0.7214\n",
            "Epoch 64/100\n",
            "6/6 [==============================] - 10s 2s/step - loss: 2.2477e-05 - categorical_accuracy: 0.6749\n",
            "Epoch 65/100\n",
            "6/6 [==============================] - 10s 2s/step - loss: 2.3156e-05 - categorical_accuracy: 0.6625\n",
            "Epoch 66/100\n",
            "6/6 [==============================] - 10s 2s/step - loss: 3.8394e-05 - categorical_accuracy: 0.6068\n",
            "Epoch 67/100\n",
            "6/6 [==============================] - 10s 2s/step - loss: 2.9096e-05 - categorical_accuracy: 0.6594\n",
            "Epoch 68/100\n",
            "6/6 [==============================] - 10s 2s/step - loss: 1.7458e-05 - categorical_accuracy: 0.6192\n",
            "Epoch 69/100\n",
            "6/6 [==============================] - 10s 2s/step - loss: 1.7458e-05 - categorical_accuracy: 0.6471\n",
            "Epoch 70/100\n",
            "6/6 [==============================] - 10s 2s/step - loss: 5.1263e-05 - categorical_accuracy: 0.6068\n",
            "Epoch 71/100\n",
            "6/6 [==============================] - 10s 2s/step - loss: 6.1564e-05 - categorical_accuracy: 0.6068\n",
            "Epoch 72/100\n",
            "6/6 [==============================] - 10s 2s/step - loss: 5.3891e-05 - categorical_accuracy: 0.5913\n",
            "Epoch 73/100\n",
            "6/6 [==============================] - 10s 2s/step - loss: 3.2069e-05 - categorical_accuracy: 0.6656\n",
            "Epoch 74/100\n",
            "6/6 [==============================] - 10s 2s/step - loss: 1.9858e-05 - categorical_accuracy: 0.6130\n",
            "Epoch 75/100\n",
            "6/6 [==============================] - 10s 2s/step - loss: 1.5768e-05 - categorical_accuracy: 0.5697\n",
            "Epoch 76/100\n",
            "6/6 [==============================] - 10s 2s/step - loss: 3.4084e-05 - categorical_accuracy: 0.6347\n",
            "Epoch 77/100\n",
            "6/6 [==============================] - 10s 2s/step - loss: 1.9356e-05 - categorical_accuracy: 0.6935\n",
            "Epoch 78/100\n",
            "6/6 [==============================] - 10s 2s/step - loss: 1.7359e-05 - categorical_accuracy: 0.5294\n",
            "Epoch 79/100\n",
            "6/6 [==============================] - 10s 2s/step - loss: 1.2455e-05 - categorical_accuracy: 0.6625\n",
            "Epoch 80/100\n",
            "6/6 [==============================] - 10s 2s/step - loss: 1.3992e-05 - categorical_accuracy: 0.5418\n",
            "Epoch 81/100\n",
            "6/6 [==============================] - 10s 2s/step - loss: 1.8941e-05 - categorical_accuracy: 0.6687\n",
            "Epoch 82/100\n",
            "6/6 [==============================] - 10s 2s/step - loss: 1.4913e-05 - categorical_accuracy: 0.7121\n",
            "Epoch 83/100\n",
            "6/6 [==============================] - 10s 2s/step - loss: 1.2689e-05 - categorical_accuracy: 0.6440\n",
            "Epoch 84/100\n",
            "6/6 [==============================] - 10s 2s/step - loss: 1.2612e-05 - categorical_accuracy: 0.7368\n",
            "Epoch 85/100\n",
            "6/6 [==============================] - 10s 2s/step - loss: 1.3490e-05 - categorical_accuracy: 0.7709\n",
            "Epoch 86/100\n",
            "6/6 [==============================] - 10s 2s/step - loss: 1.4762e-05 - categorical_accuracy: 0.7647\n",
            "Epoch 87/100\n",
            "6/6 [==============================] - 10s 2s/step - loss: 1.4861e-05 - categorical_accuracy: 0.6842\n",
            "Epoch 88/100\n",
            "6/6 [==============================] - 10s 2s/step - loss: 1.0767e-05 - categorical_accuracy: 0.6656\n",
            "Epoch 89/100\n",
            "6/6 [==============================] - 10s 2s/step - loss: 1.0745e-05 - categorical_accuracy: 0.7121\n",
            "Epoch 90/100\n",
            "6/6 [==============================] - 10s 2s/step - loss: 1.5210e-05 - categorical_accuracy: 0.7337\n",
            "Epoch 91/100\n",
            "6/6 [==============================] - 10s 2s/step - loss: 1.8068e-05 - categorical_accuracy: 0.6192\n",
            "Epoch 92/100\n",
            "6/6 [==============================] - 10s 2s/step - loss: 1.1066e-05 - categorical_accuracy: 0.6347\n",
            "Epoch 93/100\n",
            "6/6 [==============================] - 10s 2s/step - loss: 1.1533e-05 - categorical_accuracy: 0.5913\n",
            "Epoch 94/100\n",
            "6/6 [==============================] - 10s 2s/step - loss: 1.1563e-05 - categorical_accuracy: 0.6378\n",
            "Epoch 95/100\n",
            "6/6 [==============================] - 10s 2s/step - loss: 1.2329e-05 - categorical_accuracy: 0.7152\n",
            "Epoch 96/100\n",
            "6/6 [==============================] - 10s 2s/step - loss: 1.3916e-05 - categorical_accuracy: 0.6687\n",
            "Epoch 97/100\n",
            "6/6 [==============================] - 10s 2s/step - loss: 1.5101e-05 - categorical_accuracy: 0.6873\n",
            "Epoch 98/100\n",
            "6/6 [==============================] - 10s 2s/step - loss: 1.4385e-05 - categorical_accuracy: 0.7276\n",
            "Epoch 99/100\n",
            "6/6 [==============================] - 10s 2s/step - loss: 1.0897e-05 - categorical_accuracy: 0.6594\n",
            "Epoch 100/100\n",
            "6/6 [==============================] - 10s 2s/step - loss: 1.6665e-05 - categorical_accuracy: 0.7214\n"
          ]
        }
      ]
    },
    {
      "cell_type": "code",
      "source": [
        "pred = model.predict(train_testing)"
      ],
      "metadata": {
        "id": "-8aCIxIcr3PI"
      },
      "execution_count": 226,
      "outputs": []
    },
    {
      "cell_type": "code",
      "source": [
        "test_testing = test_testing.reshape(162,7)"
      ],
      "metadata": {
        "id": "4eODKE22MdwF"
      },
      "execution_count": 227,
      "outputs": []
    },
    {
      "cell_type": "code",
      "source": [
        "rmse = math.sqrt(mean_squared_error(test_testing, pred))\n",
        "print(f'RMSE: {rmse}')\n",
        "\n",
        "fig, ax = plt.subplots()\n",
        "fig.suptitle(\"Modelisation de la perte, MonoVariable\")\n",
        "ax.plot(history.history[\"loss\"])\n",
        "plt.show()"
      ],
      "metadata": {
        "colab": {
          "base_uri": "https://localhost:8080/",
          "height": 312
        },
        "id": "3WnqlgbUsQku",
        "outputId": "02926a7a-b1e8-4cdc-ee86-038e7ab3cf6d"
      },
      "execution_count": 228,
      "outputs": [
        {
          "output_type": "stream",
          "name": "stdout",
          "text": [
            "RMSE: 0.15484732709778415\n"
          ]
        },
        {
          "output_type": "display_data",
          "data": {
            "text/plain": [
              "<Figure size 432x288 with 1 Axes>"
            ],
            "image/png": "[encoded data removed]"
          },
          "metadata": {
            "needs_background": "light"
          }
        }
      ]
    },
    {
      "cell_type": "code",
      "source": [
        "plt.title(\"Modélisation de la prédiction\")\n",
        "plt.plot(np.concatenate(test_testing),label=\"real\")\n",
        "plt.plot(np.concatenate(pred),label=\"prediction\")\n",
        "plt.legend()"
      ],
      "metadata": {
        "id": "G-saiZR7vZ0b",
        "colab": {
          "base_uri": "https://localhost:8080/",
          "height": 299
        },
        "outputId": "db1c0123-fdd1-40ff-93d5-b19aebf2ecd9"
      },
      "execution_count": 231,
      "outputs": [
        {
          "output_type": "execute_result",
          "data": {
            "text/plain": [
              "<matplotlib.legend.Legend at 0x7f840a8f9a90>"
            ]
          },
          "metadata": {},
          "execution_count": 231
        },
        {
          "output_type": "display_data",
          "data": {
            "text/plain": [
              "<Figure size 432x288 with 1 Axes>"
            ],
            "image/png": "[encoded data removed]"
          },
          "metadata": {
            "needs_background": "light"
          }
        }
      ]
    }
  ]
}